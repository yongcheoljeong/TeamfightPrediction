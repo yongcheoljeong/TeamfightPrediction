{
 "metadata": {
  "language_info": {
   "codemirror_mode": {
    "name": "ipython",
    "version": 3
   },
   "file_extension": ".py",
   "mimetype": "text/x-python",
   "name": "python",
   "nbconvert_exporter": "python",
   "pygments_lexer": "ipython3",
   "version": "3.7.9"
  },
  "orig_nbformat": 4,
  "kernelspec": {
   "name": "python3",
   "display_name": "Python 3.7.9 64-bit ('owl-data': conda)"
  },
  "interpreter": {
   "hash": "38e778ec9b46f150f7def600b4936b3e96b2bd9fb9bb7d407a503baa85be6239"
  }
 },
 "nbformat": 4,
 "nbformat_minor": 2,
 "cells": [
  {
   "cell_type": "code",
   "execution_count": 1,
   "metadata": {},
   "outputs": [],
   "source": [
    "import pandas as pd \n",
    "import numpy as np \n",
    "from matplotlib import pyplot as plt \n",
    "from MySQLConnection import * \n",
    "import mysql_auth"
   ]
  },
  {
   "source": [
    "# Inter Skill Interval Analysis"
   ],
   "cell_type": "markdown",
   "metadata": {}
  },
  {
   "cell_type": "code",
   "execution_count": 4,
   "metadata": {},
   "outputs": [],
   "source": [
    "# primitive data \n",
    "sqlconn = MySQLConnection()\n",
    "all_table_names = sqlconn.get_table_names()\n",
    "table_names = [x for x in all_table_names if ((x.startswith('202105')) or (x.startswith('202106')))]\n",
    "sql_union = ''\n",
    "for table in table_names:\n",
    "    sql = f\"\"\"\n",
    "        SELECT `MatchId`, `Map`, `Section`, `Timestamp`, `Team`, `Player`, `Hero`, \n",
    "       `Cooldown1%%/s`, `Cooldown2%%/s`, `CooldownCrouching%%/s`, `CooldownSecondaryFire%%/s`, `UltimatesUsed/s`, `TF_order`, `TF_winner`, `RCP` from `{table}`\n",
    "        \"\"\"\n",
    "    if table is table_names[-1]:\n",
    "        sql_union = sql_union + sql + ';'\n",
    "    else:\n",
    "        sql_union = sql_union + sql + ' UNION '\n",
    "\n",
    "input_df = sqlconn.read_table_with_sql(sql_union)"
   ]
  },
  {
   "cell_type": "code",
   "execution_count": 22,
   "metadata": {},
   "outputs": [
    {
     "output_type": "display_data",
     "data": {
      "text/plain": "                                              Timestamp     Hero  \\\nMatchId     Map                 Section Team                       \n20210513_01 Eichenwalde         0       GZC        2.02  Winston   \n                                        GZC       14.11  Winston   \n                                        NYE       26.21      Ana   \n                                        NYE       26.21  Winston   \n                                        GZC       35.28  Winston   \n...                                                 ...      ...   \n20210605_01 Volskaya Industries 0       SEO      108.87      Ana   \n                                        SEO      128.02      Ana   \n                                        SEO      140.12      Ana   \n                                        SEO      151.21      Ana   \n                                        SEO      189.51      Ana   \n\n                                              Cooldown2%/s  Cooldown1%/s  \\\nMatchId     Map                 Section Team                               \n20210513_01 Eichenwalde         0       GZC            0.0           1.0   \n                                        GZC            0.0           1.0   \n                                        NYE            1.0           0.0   \n                                        NYE            0.0           1.0   \n                                        GZC            0.0           1.0   \n...                                                    ...           ...   \n20210605_01 Volskaya Industries 0       SEO            1.0           0.0   \n                                        SEO            1.0           0.0   \n                                        SEO            1.0           0.0   \n                                        SEO            1.0           0.0   \n                                        SEO            1.0           0.0   \n\n                                              TF_order TF_winner       RCP  \nMatchId     Map                 Section Team                                \n20210513_01 Eichenwalde         0       GZC        NaN      None  0.000000  \n                                        GZC        NaN      None  0.000000  \n                                        NYE        1.0       NYE  0.000000  \n                                        NYE        1.0       NYE  0.000000  \n                                        GZC        1.0       NYE  0.000000  \n...                                                ...       ...       ...  \n20210605_01 Volskaya Industries 0       SEO        3.0       SEO  0.000000  \n                                        SEO        4.0       SEO  0.000000  \n                                        SEO        4.0       SEO  0.000000  \n                                        SEO        4.0       SEO -5.333333  \n                                        SEO        5.0       NYE  1.833333  \n\n[21238 rows x 7 columns]",
      "text/html": "<div>\n<style scoped>\n    .dataframe tbody tr th:only-of-type {\n        vertical-align: middle;\n    }\n\n    .dataframe tbody tr th {\n        vertical-align: top;\n    }\n\n    .dataframe thead th {\n        text-align: right;\n    }\n</style>\n<table border=\"1\" class=\"dataframe\">\n  <thead>\n    <tr style=\"text-align: right;\">\n      <th></th>\n      <th></th>\n      <th></th>\n      <th></th>\n      <th>Timestamp</th>\n      <th>Hero</th>\n      <th>Cooldown2%/s</th>\n      <th>Cooldown1%/s</th>\n      <th>TF_order</th>\n      <th>TF_winner</th>\n      <th>RCP</th>\n    </tr>\n    <tr>\n      <th>MatchId</th>\n      <th>Map</th>\n      <th>Section</th>\n      <th>Team</th>\n      <th></th>\n      <th></th>\n      <th></th>\n      <th></th>\n      <th></th>\n      <th></th>\n      <th></th>\n    </tr>\n  </thead>\n  <tbody>\n    <tr>\n      <th rowspan=\"5\" valign=\"top\">20210513_01</th>\n      <th rowspan=\"5\" valign=\"top\">Eichenwalde</th>\n      <th rowspan=\"5\" valign=\"top\">0</th>\n      <th>GZC</th>\n      <td>2.02</td>\n      <td>Winston</td>\n      <td>0.0</td>\n      <td>1.0</td>\n      <td>NaN</td>\n      <td>None</td>\n      <td>0.000000</td>\n    </tr>\n    <tr>\n      <th>GZC</th>\n      <td>14.11</td>\n      <td>Winston</td>\n      <td>0.0</td>\n      <td>1.0</td>\n      <td>NaN</td>\n      <td>None</td>\n      <td>0.000000</td>\n    </tr>\n    <tr>\n      <th>NYE</th>\n      <td>26.21</td>\n      <td>Ana</td>\n      <td>1.0</td>\n      <td>0.0</td>\n      <td>1.0</td>\n      <td>NYE</td>\n      <td>0.000000</td>\n    </tr>\n    <tr>\n      <th>NYE</th>\n      <td>26.21</td>\n      <td>Winston</td>\n      <td>0.0</td>\n      <td>1.0</td>\n      <td>1.0</td>\n      <td>NYE</td>\n      <td>0.000000</td>\n    </tr>\n    <tr>\n      <th>GZC</th>\n      <td>35.28</td>\n      <td>Winston</td>\n      <td>0.0</td>\n      <td>1.0</td>\n      <td>1.0</td>\n      <td>NYE</td>\n      <td>0.000000</td>\n    </tr>\n    <tr>\n      <th>...</th>\n      <th>...</th>\n      <th>...</th>\n      <th>...</th>\n      <td>...</td>\n      <td>...</td>\n      <td>...</td>\n      <td>...</td>\n      <td>...</td>\n      <td>...</td>\n      <td>...</td>\n    </tr>\n    <tr>\n      <th rowspan=\"5\" valign=\"top\">20210605_01</th>\n      <th rowspan=\"5\" valign=\"top\">Volskaya Industries</th>\n      <th rowspan=\"5\" valign=\"top\">0</th>\n      <th>SEO</th>\n      <td>108.87</td>\n      <td>Ana</td>\n      <td>1.0</td>\n      <td>0.0</td>\n      <td>3.0</td>\n      <td>SEO</td>\n      <td>0.000000</td>\n    </tr>\n    <tr>\n      <th>SEO</th>\n      <td>128.02</td>\n      <td>Ana</td>\n      <td>1.0</td>\n      <td>0.0</td>\n      <td>4.0</td>\n      <td>SEO</td>\n      <td>0.000000</td>\n    </tr>\n    <tr>\n      <th>SEO</th>\n      <td>140.12</td>\n      <td>Ana</td>\n      <td>1.0</td>\n      <td>0.0</td>\n      <td>4.0</td>\n      <td>SEO</td>\n      <td>0.000000</td>\n    </tr>\n    <tr>\n      <th>SEO</th>\n      <td>151.21</td>\n      <td>Ana</td>\n      <td>1.0</td>\n      <td>0.0</td>\n      <td>4.0</td>\n      <td>SEO</td>\n      <td>-5.333333</td>\n    </tr>\n    <tr>\n      <th>SEO</th>\n      <td>189.51</td>\n      <td>Ana</td>\n      <td>1.0</td>\n      <td>0.0</td>\n      <td>5.0</td>\n      <td>NYE</td>\n      <td>1.833333</td>\n    </tr>\n  </tbody>\n</table>\n<p>21238 rows × 7 columns</p>\n</div>"
     },
     "metadata": {}
    }
   ],
   "source": [
    "# set hero1 and hero2\n",
    "hero1 = 'Ana'\n",
    "hero2 = 'Winston'\n",
    "\n",
    "# set skill1 and skill2 \n",
    "skill_list = ['Cooldown1%/s', 'Cooldown2%/s', 'CooldownCrouching%/s', 'CooldownSecondaryFire%/s', 'UltimatesUsed/s']\n",
    "skill1 = 'Cooldown2%/s'\n",
    "skill2 = 'Cooldown1%/s'\n",
    "\n",
    "# filtering\n",
    "cond1 = ((input_df['Hero']==hero1) & (input_df[skill1] > 0))\n",
    "cond2 = ((input_df['Hero']==hero2) & (input_df[skill2] > 0))\n",
    "df_init = input_df.loc[(cond1 | cond2), :]\n",
    "\n",
    "# grouping \n",
    "df_group = df_init.set_index(['MatchId', 'Map', 'Section', 'Team'])[['Timestamp', 'Hero', skill1, skill2, 'TF_order', 'TF_winner', 'RCP']]\n",
    "df_group.loc[df_group[skill1]>0, skill1] = 1\n",
    "df_group.loc[df_group[skill1]<0, skill1] = 0\n",
    "df_group.loc[df_group[skill2]>0, skill2] = 1\n",
    "df_group.loc[df_group[skill2]<0, skill2] = 0\n",
    "display(df_group)\n",
    "\n",
    "# get ISI\n",
    "# to_drop = (df_group['B'] == df_group['B'].shift())&(df_group['C']==df_group['C'].shift())\n",
    "# df = df[~to_drop]\n",
    "\n",
    "# plot"
   ]
  }
 ]
}